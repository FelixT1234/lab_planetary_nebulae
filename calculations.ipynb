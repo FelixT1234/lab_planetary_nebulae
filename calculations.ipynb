{
 "cells": [
  {
   "cell_type": "code",
   "execution_count": 37,
   "metadata": {},
   "outputs": [],
   "source": [
    "from astropy import units as u\n",
    "from astropy import constants as const\n",
    "import numpy as np"
   ]
  },
  {
   "cell_type": "markdown",
   "metadata": {},
   "source": [
    "# Angular Diameter"
   ]
  },
  {
   "cell_type": "code",
   "execution_count": 17,
   "metadata": {},
   "outputs": [
    {
     "name": "stdout",
     "output_type": "stream",
     "text": [
      "H: Theta = 23, Delta_x = 13\n",
      "He: Theta = 14.0, Delta_x = 7\n",
      "Seeing: Theta = 10, Delta_x = 6\n",
      "\n",
      "True Delta_x He = 6.336572854214723 arcsec\n",
      "Angular distance H = 10.56095475702454 arcsec\n",
      "\n",
      "True Delta_x He = 1.9810721293758182 arcsec\n",
      "Angular distance He = 3.3017868822930305 arcsec\n"
     ]
    }
   ],
   "source": [
    "# observations:\n",
    "theta_obs_H = 366 - 343 # observed angular diameter of H Beta\n",
    "delta_x_obs_H = 362 - 349 # observed FWHM of H Beta\n",
    "print(f\"H: Theta = {theta_obs_H}, Delta_x = {delta_x_obs_H}\")\n",
    "\n",
    "theta_obs_He = 361.5 - 347.5 # observed angular diameter of He\n",
    "delta_x_obs_He = 358 - 351 # observed FWHM of He\n",
    "print(f\"He: Theta = {theta_obs_He}, Delta_x = {delta_x_obs_He}\")\n",
    "\n",
    "theta_see = 359 - 349 # angular diameter of seeing\n",
    "delta_x_see = 357 - 351 # FWHM of seeing\n",
    "print(f\"Seeing: Theta = {theta_see}, Delta_x = {delta_x_see}\", end=\"\\n\\n\")\n",
    "\n",
    "\n",
    "# further calculations:\n",
    "def get_delta_x_true(delta_x_obs):\n",
    "    return np.sqrt(delta_x_obs**2 - delta_x_see**2)\n",
    "\n",
    "def get_theta_true(delta_x_true):\n",
    "    return (theta_see/delta_x_see)*delta_x_true\n",
    "\n",
    "# H Beta:\n",
    "delta_x_true_H = get_delta_x_true(delta_x_obs_H)\n",
    "theta_true_H = (get_theta_true(delta_x_true_H)/1.82)*u.arcsec\n",
    "\n",
    "delta_x_true_H = (delta_x_true_H/1.82)*u.arcsec # add unit\n",
    "print(f\"True Delta_x He = {delta_x_true_H}\")\n",
    "print(f\"Angular distance H = {theta_true_H}\", end=\"\\n\\n\")\n",
    "\n",
    "# He:\n",
    "delta_x_true_He = get_delta_x_true(delta_x_obs_He)\n",
    "theta_true_He = (get_theta_true(delta_x_true_He)/1.82)*u.arcsec\n",
    "\n",
    "delta_x_true_He = (delta_x_true_He/1.82)*u.arcsec # add unit\n",
    "print(f\"True Delta_x He = {delta_x_true_He}\")\n",
    "print(f\"Angular distance He = {theta_true_He}\")"
   ]
  },
  {
   "cell_type": "markdown",
   "metadata": {},
   "source": [
    "# Absolute Fluxes"
   ]
  },
  {
   "cell_type": "code",
   "execution_count": 96,
   "metadata": {},
   "outputs": [
    {
     "name": "stdout",
     "output_type": "stream",
     "text": [
      "alpha He = 1.0584491866079324e-13\n",
      "abs_flux_He = 2.9138490141091155e-13 erg / (s cm2)\n"
     ]
    }
   ],
   "source": [
    "equiv_width_H = 94.4978*(u.erg/(u.cm**2*u.s))\n",
    "equiv_width_He = 2.219203*(u.erg/(u.cm**2*u.s))\n",
    "\n",
    "c = 0.09\n",
    "abs_flux_H = 10**(-10.08+c)*(u.erg/(u.cm**2*u.s))\n",
    "correction_abs_flux_He = 1.04*c * (u.erg/(u.cm**2*u.s))\n",
    "\n",
    "rel_flux_H = equiv_width_H\n",
    "rel_flux_He = equiv_width_He\n",
    "\n",
    "f = theta_true_He**2/theta_true_H**2\n",
    "alpha_He = abs_flux_H/rel_flux_H * f\n",
    "abs_flux_He = abs_flux_H* rel_flux_He/rel_flux_H*f * 10**(correction_abs_flux_He.value)\n",
    "# abs_flux_He = alpha_He * rel_flux_He * 10**(correction_abs_flux_He.value)\n",
    "\n",
    "\n",
    "print(f\"alpha He = {alpha_He}\")\n",
    "print(f\"abs_flux_He = {abs_flux_He}\")"
   ]
  },
  {
   "cell_type": "markdown",
   "metadata": {},
   "source": [
    "# Zanstra ratios"
   ]
  },
  {
   "cell_type": "code",
   "execution_count": 107,
   "metadata": {},
   "outputs": [
    {
     "name": "stdout",
     "output_type": "stream",
     "text": [
      "T_plus_H: 9600.0 K\n",
      "T_plus_He: 2400.0 K\n",
      "Zanstra_H = 1.4643535137899697e-16 erg / Angstrom\n",
      "Zanstra_He = 6.067889503644172e-14 erg / Angstrom\n"
     ]
    }
   ],
   "source": [
    "V_0 = 12.9 - 2.175*c\n",
    "abs_flux_reference = 3.65e-9*10**(-0.4*V_0)*(u.erg/(u.cm**2*u.s*u.angstrom))\n",
    "C = 5.197e-14\n",
    "T_neb = 9600*u.K # nebula temperature\n",
    "\n",
    "# Einstein coefficients:\n",
    "A_H = 8.42e6/u.s\n",
    "A_He = 142.4e6/u.s\n",
    "\n",
    "# transmission frequencies:\n",
    "nu_H = const.c/(4861.3*u.angstrom)\n",
    "nu_He = const.c/(4686.0*u.angstrom)\n",
    "\n",
    "# nuclear charges:\n",
    "z_H = 1\n",
    "z_He = 2\n",
    "\n",
    "T_plus_H = T_neb/z_H**2\n",
    "T_plus_He = T_neb/z_He**2\n",
    "print(f\"T_plus_H: {T_plus_H}\")\n",
    "print(f\"T_plus_He: {T_plus_He}\")\n",
    "\n",
    "# from T_plus follows:\n",
    "B_H = 3.58e-15*(u.cm**3*u.K**(3/2))\n",
    "B_He = 1.44e-15*(u.cm**3*u.K**(3/2))\n",
    "\n",
    "def alpha_2(z):\n",
    "    x = 1.57890e5 * (z**2/(T_neb)).value\n",
    "    return C*z*x**(1/2)*((1/2)*np.log(x) + 0.496*x**(-1/3) - 0.3412)*(u.cm**3/u.s)\n",
    "\n",
    "def Zanstra(nu, B, A, z, abs_flux):\n",
    "    return const.h.to(u.erg*u.s)*nu*((B*A)/(T_neb**(3/2)*alpha_2(z)*(abs_flux/abs_flux_reference)))\n",
    "\n",
    "\n",
    "Zanstra_H = Zanstra(nu_H, B_H, A_H, z_H, abs_flux_H).decompose().to(u.erg/u.angstrom)\n",
    "Zanstra_He = Zanstra(nu_He, B_He, A_He, z_He, abs_flux_He).decompose().to(u.erg/u.angstrom)\n",
    "print(f\"Zanstra_H = {Zanstra_H}\")\n",
    "print(f\"Zanstra_He = {Zanstra_He}\")"
   ]
  },
  {
   "cell_type": "code",
   "execution_count": 172,
   "metadata": {},
   "outputs": [
    {
     "name": "stdout",
     "output_type": "stream",
     "text": [
      "T_eff_H = 53000.0 K\n",
      "T_eff_He = 55870.0 K\n",
      "-log(Z_H) = 15.834279001023289\n",
      "-log(Z_He) = 13.216887443050295\n"
     ]
    }
   ],
   "source": [
    "T_eff = np.arange(40e3, 80e3, 10)*u.K\n",
    "lambda_reference = 5480*u.angstrom\n",
    "# lambda_ion_min_H = 911*u.angstrom\n",
    "# lambda_ion_min_He = 227.8*u.angstrom\n",
    "E_ion_H = 13.6*u.eV\n",
    "E_ion_He = 4*13.6*u.eV\n",
    "\n",
    "def get_Planck_wavelength(T):\n",
    "    return (2*const.h*const.c**2/lambda_reference**5)/(np.exp((const.h*const.c/(lambda_reference*const.k_B*T))) - 1)\n",
    "\n",
    "def get_N_ion(T, E_ion):\n",
    "    nu_0 = ((E_ion)/(const.k_B*T))\n",
    "    return (2/const.c**2 * ((const.k_B*T)/const.h)**3 * np.exp(-nu_0) * \n",
    "             (nu_0*(nu_0 + 2) + 2)).decompose()\n",
    "\n",
    "def Zanstra_P_theo(T, E_ion):\n",
    "    return (get_Planck_wavelength(T)/get_N_ion(T, E_ion)).to(u.erg/u.angstrom)\n",
    "\n",
    "def solve_for_match_H(T):\n",
    "    return np.abs(Zanstra_P_theo(T, E_ion_H)-Zanstra_H)\n",
    "\n",
    "def solve_for_match_He(T):\n",
    "    return np.abs(Zanstra_P_theo(T, E_ion_He)-Zanstra_He)\n",
    "\n",
    "differences_H = [solve_for_match_H(temperature) for temperature in T_eff]\n",
    "differences_He = [solve_for_match_He(temperature) for temperature in T_eff]\n",
    "\n",
    "# print temperature with lowest difference\n",
    "T_eff_H = T_eff[differences_H.index(min(differences_H))]\n",
    "T_eff_He = T_eff[differences_He.index(min(differences_He))]\n",
    "print(f\"T_eff_H = {T_eff_H}\") \n",
    "print(f\"T_eff_He = {T_eff_He}\") \n",
    "\n",
    "print(f\"-log(Z_H) = {-np.log10(Zanstra_P_theo(T_eff_H, E_ion_H).value)}\")\n",
    "print(f\"-log(Z_He) = {-np.log10(Zanstra_P_theo(T_eff_He, E_ion_He).value)}\")\n",
    "\n"
   ]
  },
  {
   "cell_type": "markdown",
   "metadata": {},
   "source": [
    "# Radius and Distance of the System"
   ]
  },
  {
   "cell_type": "code",
   "execution_count": 195,
   "metadata": {},
   "outputs": [
    {
     "name": "stdout",
     "output_type": "stream",
     "text": [
      "Radius star: 0.6804628850497475*R_sun\n",
      "Distance: 1710.4975273361954 pc\n"
     ]
    }
   ],
   "source": [
    "# M_sun = 1.989e30*u.kg\n",
    "M_star = 0.534*const.M_sun\n",
    "g = 10**(4.5)*(u.cm/u.s**2)\n",
    "\n",
    "R_star = (np.sqrt(const.G*M_star/g)/(const.R_sun)).decompose()\n",
    "\n",
    "F_mod_H = get_Planck_wavelength(53000*u.K)\n",
    "\n",
    "d = np.sqrt(((R_star*const.R_sun)**2*F_mod_H)/abs_flux_reference).to(u.pc)\n",
    "\n",
    "print(f\"Radius star: {R_star}*R_sun\")\n",
    "print(f\"Distance: {d}\")"
   ]
  },
  {
   "cell_type": "markdown",
   "metadata": {},
   "source": [
    "# Diameter and Mass of the Nebula"
   ]
  },
  {
   "cell_type": "code",
   "execution_count": 213,
   "metadata": {},
   "outputs": [
    {
     "name": "stdout",
     "output_type": "stream",
     "text": [
      "Radius: 0.14281838690617266 arcsec lyr\n",
      "Mass: 0.06318167979014339*M_sun\n"
     ]
    }
   ],
   "source": [
    "m_H = 1.673e-27*u.kg\n",
    "n_e = 5.1e3/u.cm**3\n",
    "A_42 = A_H\n",
    "B = B_H\n",
    "n_p = n_e/1.13\n",
    "\n",
    "# Radius of the nebula:\n",
    "R_neb = 4.848e-6*(theta_true_H/2)*d.to(u.lyr)\n",
    "\n",
    "# Mass of the nebula:\n",
    "n_4 = n_e*n_p*B/T_neb**(3/2)\n",
    "epsilon_times_V = ((4*np.pi*d**2*abs_flux_H)/(const.h*nu_H*n_4*A_42))\n",
    "\n",
    "M_neb = (((1.4/1.13)*n_e*m_H*epsilon_times_V)/(const.M_sun)).decompose()\n",
    "\n",
    "print(f\"Radius: {R_neb}\")\n",
    "print(f\"Mass: {M_neb}*M_sun\")"
   ]
  }
 ],
 "metadata": {
  "kernelspec": {
   "display_name": ".venv",
   "language": "python",
   "name": "python3"
  },
  "language_info": {
   "codemirror_mode": {
    "name": "ipython",
    "version": 3
   },
   "file_extension": ".py",
   "mimetype": "text/x-python",
   "name": "python",
   "nbconvert_exporter": "python",
   "pygments_lexer": "ipython3",
   "version": "3.10.12"
  }
 },
 "nbformat": 4,
 "nbformat_minor": 2
}
